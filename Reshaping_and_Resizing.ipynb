{
 "cells": [
  {
   "cell_type": "markdown",
   "metadata": {},
   "source": [
    "## Reshaping and Resizing\n",
    "When working with data in array from, it is often useful to rearrange arrays and alter the way they are interpreted. For example, an $N \\times N$ matrix array could be rearranged into a vector of length $N^{2}$, or a set of one-dimensional arrays could be concatenated together or stacked next to each other to form a matrix. NumPy provides a rich set of functions of this type of manipulation. \n",
    "\n",
    "#### Summary of NumPy Functions for Manipulating the Dimensions and the Shape of Arrays\n",
    "\n",
    "Function/Method | Description   \n",
    " :--- | :--- \n",
    " **np.reshape, np.ndarray.reshape** | Reshape an N-dimensional array. The total number of elements must remain the same.\n",
    " **np.ndarray.flatten** | Creates a copy of an N-dimensional array, and reinterpret it as a one-dimensional array (i.e., all dimension are collapsed into one). \n",
    " **np.ravel, np.ndarray.ravel** | Create a view (if possible, otherwise a copy) of a N-dimensional array in which is interpreted as a one-dimensional array. \n",
    " **np.squeeze** | Removes axes with length 1. \n",
    " **np.expand_dims, np.newaxis** | Add a new axis (dimension) of length 1 to an array, where np.newaxis is used with array indexing.\n",
    " **np.transpose, np.ndarray.transpose, np.ndarray.T** | Transpose the array. The transpose operation corresponds to reversing (or more generally, permuting) the axes of the array.\n",
    " **np.hstack** | Stacks a list of arrays horizontally (along axis 1): for example, given a list of column vectors, appends the columns to form a matrix.\n",
    " **np.vstack** | Stacks a list of arrays vertically (along axis 0): for example, given a list of row vectors, appends the rows to form a matrix. \n",
    " **np.dstack** | Stacks arrays depth-wise (along axis 2).\n",
    " **np.concatenate** | Creates a new array by appending arrays after each other, along a given axis.\n",
    " **np.resize** | Resizes an array. Creates a new copy of the original array, with the requested size. If necessary, the original array will be repeated to fill up the new array.\n",
    " **np.append** | Appends an element to an array. Creates a new copy of the array.\n",
    " **np.insert** | Inserts a new element at a given position. Creates a new copy of the array.\n",
    " **np.delete** | Deletes an element at a given position. Creates a new copy of the array.\n",
    " \n",
    "Reshaping an array does not require modifying the underlying array data; it only changes in how the data is interpreted, by redefining the array's strides attribute. An example, of this type of operation is a $2 \\times 2$ array (matrix) that is reinterpreted as a $1 \\times 4$ array (vector).\n",
    " \n",
    "In NumPy, the function np.reshape, or the ndarray class method reshape, can be used to reconfigure how the underlying data is interpreted. It takes an array and the new shape of the array as arguments:"
   ]
  },
  {
   "cell_type": "code",
   "execution_count": 1,
   "metadata": {},
   "outputs": [],
   "source": [
    "# Importing the NumPy library\n",
    "import numpy as np\n",
    "\n",
    "data = np.array([[1, 2], [3, 4]])"
   ]
  },
  {
   "cell_type": "code",
   "execution_count": 2,
   "metadata": {},
   "outputs": [
    {
     "data": {
      "text/plain": [
       "array([[1, 2, 3, 4]])"
      ]
     },
     "execution_count": 2,
     "metadata": {},
     "output_type": "execute_result"
    }
   ],
   "source": [
    "np.reshape(data, (1, 4))"
   ]
  },
  {
   "cell_type": "code",
   "execution_count": 3,
   "metadata": {},
   "outputs": [
    {
     "data": {
      "text/plain": [
       "array([1, 2, 3, 4])"
      ]
     },
     "execution_count": 3,
     "metadata": {},
     "output_type": "execute_result"
    }
   ],
   "source": [
    "data.reshape(4)"
   ]
  },
  {
   "cell_type": "markdown",
   "metadata": {},
   "source": [
    "It is necessary that the requested new shape of the array match the number of elements in the original size. However, the number of axes (dimensions) does not need to be conserved, as illustrated in the previous example, where in the first case, the new array has dimension 2 and shape (1, 4), while in the second case, the new array has dimension 1 and shape (4,).\n",
    "\n",
    "This example also demonstrates two different ways of invoking the reshape operation: using the function np.reshape and the ndarray method reshape. Note that reshaping an array produces a view of the array, and if an independent copy of the array is needed, the view has to be copied explicitly (e.g., using np.copy).\n",
    "\n",
    "The np.ravel (and its corresponding ndarray method) is a special case of reshape, which collapses all dimensions of an array and returns a flattened one-dimensional array with a length that corresponds to the total number of elements in the original array. The ndarray method flatten performs the same function but returns a copy instead a view."
   ]
  },
  {
   "cell_type": "code",
   "execution_count": 4,
   "metadata": {},
   "outputs": [],
   "source": [
    "data = np.array([[1, 2], [3, 4]])"
   ]
  },
  {
   "cell_type": "code",
   "execution_count": 5,
   "metadata": {},
   "outputs": [
    {
     "data": {
      "text/plain": [
       "array([[1, 2],\n",
       "       [3, 4]])"
      ]
     },
     "execution_count": 5,
     "metadata": {},
     "output_type": "execute_result"
    }
   ],
   "source": [
    "data"
   ]
  },
  {
   "cell_type": "code",
   "execution_count": 6,
   "metadata": {},
   "outputs": [
    {
     "data": {
      "text/plain": [
       "array([1, 2, 3, 4])"
      ]
     },
     "execution_count": 6,
     "metadata": {},
     "output_type": "execute_result"
    }
   ],
   "source": [
    "data.flatten()"
   ]
  },
  {
   "cell_type": "code",
   "execution_count": 7,
   "metadata": {},
   "outputs": [
    {
     "data": {
      "text/plain": [
       "(4,)"
      ]
     },
     "execution_count": 7,
     "metadata": {},
     "output_type": "execute_result"
    }
   ],
   "source": [
    "data.flatten().shape"
   ]
  },
  {
   "cell_type": "markdown",
   "metadata": {},
   "source": [
    "In addition to reshaping and selecting subarrays, it is often necessary to merge arrays into bigger arrays, for example, when joining separately computed or measured data series into a higher-dimensional array, such as a matrix.\n",
    "For this task, NumPy provides the functions np.vstack, for vertical stacking of, for example, rows into a matrix, and np.hstack for horizontal stacking of, for example, columns into a matrix. The function np.concatenate provides similar functionality, but it takes a keyword argument axis that specifies the axis along which the arrays are to be concatenated.\n",
    "\n",
    "The shape of the arrays passed to np.hstack, np.vstack, and np.concatenate is important to achieve the desired type of array joining. For example, consider the following cases: say we have one-dimensional arrays of data, and we want to stack them vertically to obtain a matrix where the rows are mede up of the one-dimensional arrays. We can use np.vstack to achieve this:"
   ]
  },
  {
   "cell_type": "code",
   "execution_count": 8,
   "metadata": {},
   "outputs": [],
   "source": [
    "data = np.arange(5)"
   ]
  },
  {
   "cell_type": "code",
   "execution_count": 9,
   "metadata": {},
   "outputs": [
    {
     "data": {
      "text/plain": [
       "array([0, 1, 2, 3, 4])"
      ]
     },
     "execution_count": 9,
     "metadata": {},
     "output_type": "execute_result"
    }
   ],
   "source": [
    "data"
   ]
  },
  {
   "cell_type": "code",
   "execution_count": 10,
   "metadata": {},
   "outputs": [
    {
     "data": {
      "text/plain": [
       "array([[0, 1, 2, 3, 4],\n",
       "       [0, 1, 2, 3, 4],\n",
       "       [0, 1, 2, 3, 4]])"
      ]
     },
     "execution_count": 10,
     "metadata": {},
     "output_type": "execute_result"
    }
   ],
   "source": [
    "np.vstack((data, data, data))"
   ]
  },
  {
   "cell_type": "markdown",
   "metadata": {},
   "source": [
    "If we instead want to stack the arrays horizontally, to obtain a matrix where the arrays are the columns vectors, we might first attempt something similar using np.hstack:"
   ]
  },
  {
   "cell_type": "code",
   "execution_count": 11,
   "metadata": {},
   "outputs": [],
   "source": [
    "data = np.arange(5)"
   ]
  },
  {
   "cell_type": "code",
   "execution_count": 12,
   "metadata": {},
   "outputs": [
    {
     "data": {
      "text/plain": [
       "array([0, 1, 2, 3, 4])"
      ]
     },
     "execution_count": 12,
     "metadata": {},
     "output_type": "execute_result"
    }
   ],
   "source": [
    "data"
   ]
  },
  {
   "cell_type": "code",
   "execution_count": 13,
   "metadata": {},
   "outputs": [
    {
     "data": {
      "text/plain": [
       "array([0, 1, 2, 3, 4, 0, 1, 2, 3, 4, 0, 1, 2, 3, 4])"
      ]
     },
     "execution_count": 13,
     "metadata": {},
     "output_type": "execute_result"
    }
   ],
   "source": [
    "np.hstack((data, data, data))"
   ]
  },
  {
   "cell_type": "markdown",
   "metadata": {},
   "source": [
    "The number of elements in a NumPy array cannot be changed once the array has been created. To insert, append, and remove elements from a NumPy array, for example, using the function np.append, np.insert, and np.delete, a new array must be created and the data copied to it. It may sometimes be tempting to use these functions to grow or shrink the size of a NumPy array, but due to the overhead of creating new arrays and copying the data, it is usually a good idea to preallocate arrays with size such that they do not later need to be resized."
   ]
  }
 ],
 "metadata": {
  "kernelspec": {
   "display_name": "Python 3",
   "language": "python",
   "name": "python3"
  },
  "language_info": {
   "codemirror_mode": {
    "name": "ipython",
    "version": 3
   },
   "file_extension": ".py",
   "mimetype": "text/x-python",
   "name": "python",
   "nbconvert_exporter": "python",
   "pygments_lexer": "ipython3",
   "version": "3.8.3"
  },
  "toc": {
   "base_numbering": 1,
   "nav_menu": {},
   "number_sections": true,
   "sideBar": true,
   "skip_h1_title": false,
   "title_cell": "Table of Contents",
   "title_sidebar": "Contents",
   "toc_cell": false,
   "toc_position": {
    "height": "calc(100% - 180px)",
    "left": "10px",
    "top": "150px",
    "width": "252px"
   },
   "toc_section_display": true,
   "toc_window_display": true
  }
 },
 "nbformat": 4,
 "nbformat_minor": 4
}
